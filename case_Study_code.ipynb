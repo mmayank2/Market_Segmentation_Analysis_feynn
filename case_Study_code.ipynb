{
 "cells": [
  {
   "cell_type": "code",
   "execution_count": 1,
   "id": "1e7144de-a1f2-4649-aec9-fef8f52ae1a2",
   "metadata": {},
   "outputs": [],
   "source": [
    "# case study"
   ]
  },
  {
   "cell_type": "markdown",
   "id": "991d3cb6-7d12-496d-a081-eeaef6348dd7",
   "metadata": {},
   "source": [
    "Imagine you're McDonald’s, and you want to understand if different groups of consumers see your brand differently. This is important because it helps you know who to target with your marketing and what messages to send them.<br>\n",
    "\n",
    "Here's what we'll do:<br>\n",
    "\n",
    "    1. Data Collection: We have data collected from surveys that were originally done to see how people view brands. This data has been used before in different studies.\n",
    "\n",
    "    2. Goal: Our goal is to figure out if there are specific groups of people who see McDonald’s differently from others.\n",
    "\n",
    "Approach: We'll use a method called market segmentation analysis. This helps us divide people into groups based on their perceptions of McDonald’s.\n",
    "\n",
    "Why It's Important: By understanding these groups, we can decide where to focus our efforts. For example, if there's a group with a positive view, we can make sure they keep liking us. If there's a group with a negative view, we can figure out why and try to change that."
   ]
  },
  {
   "cell_type": "markdown",
   "id": "ed9d417d-5c29-42af-a038-42756419fa39",
   "metadata": {},
   "source": [
    "# <font color=\"red\">Step 1. </font>  Deciding to segement :-\n",
    "it's a choice between a uniform marketing approach for all customers or recognizing and responding to the diversity in customers' perceptions."
   ]
  },
  {
   "cell_type": "markdown",
   "id": "8d11c55e-e309-46ec-a87e-5d744e70a5a6",
   "metadata": {},
   "source": [
    "# <font color=\"red\">Step 2.</font>Specifying the Ideal Target Segment:- "
   ]
  },
  {
   "cell_type": "raw",
   "id": "443c18b9-9deb-4d77-851a-6ad881c2507c",
   "metadata": {},
   "source": [
    "Certainly! In this step, McDonald’s needs to determine the characteristics of the ideal group of customers they want to target. These characteristics include:\n",
    "\n",
    "Homogeneity: The group should be similar to each other in a key characteristic.\n",
    "Distinctiveness: They should be different from other groups in a key characteristic.\n",
    "Size: The group should be large enough to justify customizing marketing efforts.\n",
    "Alignment with McDonald’s Strengths: They should be open to eating at fast food restaurants.\n",
    "Identifiability: There should be a way to recognize this group among others.\n",
    "Reachability: There should be channels to communicate and distribute products/services to this group specifically.\n",
    "For attractiveness criteria, McDonald’s might prefer a group that:\n",
    "\n",
    "Has a positive perception of McDonald’s.\n",
    "- Frequently eats out.\n",
    "- Enjoys fast food.\n",
    "Additionally, McDonald’s might also want to understand and potentially modify perceptions of groups currently not fond of them. Since the available data primarily focuses on people's brand image of McDonald’s and lacks additional information, attractiveness criteria are limited to liking McDonald’s and frequent patronage of McDonald’s. These criteria will help inform the selection of target segments in the later steps.\n"
   ]
  },
  {
   "cell_type": "markdown",
   "id": "9d860f64-79f3-47be-8972-742cceceee11",
   "metadata": {},
   "source": [
    "# <font color=\"red\">Step 3 :- Collecting Data</font>"
   ]
  },
  {
   "cell_type": "code",
   "execution_count": 2,
   "id": "7d6aabf0-43ed-4c1d-a090-7b22e1941dae",
   "metadata": {},
   "outputs": [],
   "source": [
    "# Load necessary files\n",
    "import pandas as pd\n",
    "import numpy as np\n",
    "import warnings\n",
    "warnings.filterwarnings('ignore')\n",
    "import matplotlib.pyplot as plt\n",
    "import seaborn as sns\n",
    "from sklearn.metrics import silhouette_score\n",
    "from sklearn.decomposition import PCA\n",
    "from sklearn.cluster import KMeans\n",
    "from sklearn.metrics import adjusted_rand_score\n",
    "from sklearn.utils import resample"
   ]
  },
  {
   "cell_type": "code",
   "execution_count": 3,
   "id": "17a4f817-91a9-4f3e-b279-fa4b753607e5",
   "metadata": {},
   "outputs": [],
   "source": [
    "# Load mcdonalds dataset\n",
    "mcdonalds=pd.read_csv(\"mcdonalds.csv\")"
   ]
  },
  {
   "cell_type": "markdown",
   "id": "4c4bd6da-8500-4a2b-b044-dd23b074b204",
   "metadata": {},
   "source": [
    "# <font color=\"red\"> Step 4 :- Exploring Data </font>"
   ]
  },
  {
   "cell_type": "code",
   "execution_count": 4,
   "id": "1fb90d6b-d944-4b99-b34c-ecfa1a4a5f1e",
   "metadata": {},
   "outputs": [
    {
     "data": {
      "text/plain": [
       "Index(['yummy', 'convenient', 'spicy', 'fattening', 'greasy', 'fast', 'cheap',\n",
       "       'tasty', 'expensive', 'healthy', 'disgusting', 'Like', 'Age',\n",
       "       'VisitFrequency', 'Gender'],\n",
       "      dtype='object')"
      ]
     },
     "execution_count": 4,
     "metadata": {},
     "output_type": "execute_result"
    }
   ],
   "source": [
    "# Feactures names\n",
    "mcdonalds.columns"
   ]
  },
  {
   "cell_type": "code",
   "execution_count": 5,
   "id": "080bc1ab-1dad-4e2d-9d0b-28c929d22d58",
   "metadata": {},
   "outputs": [
    {
     "data": {
      "text/plain": [
       "(1453, 15)"
      ]
     },
     "execution_count": 5,
     "metadata": {},
     "output_type": "execute_result"
    }
   ],
   "source": [
    "# shape of Datasets\n",
    "mcdonalds.shape"
   ]
  },
  {
   "cell_type": "code",
   "execution_count": 6,
   "id": "5f3460ec-e5e7-4ff3-89c4-c54895b252bc",
   "metadata": {},
   "outputs": [
    {
     "data": {
      "text/html": [
       "<div>\n",
       "<style scoped>\n",
       "    .dataframe tbody tr th:only-of-type {\n",
       "        vertical-align: middle;\n",
       "    }\n",
       "\n",
       "    .dataframe tbody tr th {\n",
       "        vertical-align: top;\n",
       "    }\n",
       "\n",
       "    .dataframe thead th {\n",
       "        text-align: right;\n",
       "    }\n",
       "</style>\n",
       "<table border=\"1\" class=\"dataframe\">\n",
       "  <thead>\n",
       "    <tr style=\"text-align: right;\">\n",
       "      <th></th>\n",
       "      <th>yummy</th>\n",
       "      <th>convenient</th>\n",
       "      <th>spicy</th>\n",
       "      <th>fattening</th>\n",
       "      <th>greasy</th>\n",
       "      <th>fast</th>\n",
       "      <th>cheap</th>\n",
       "      <th>tasty</th>\n",
       "      <th>expensive</th>\n",
       "      <th>healthy</th>\n",
       "      <th>disgusting</th>\n",
       "      <th>Like</th>\n",
       "      <th>Age</th>\n",
       "      <th>VisitFrequency</th>\n",
       "      <th>Gender</th>\n",
       "    </tr>\n",
       "  </thead>\n",
       "  <tbody>\n",
       "    <tr>\n",
       "      <th>0</th>\n",
       "      <td>No</td>\n",
       "      <td>Yes</td>\n",
       "      <td>No</td>\n",
       "      <td>Yes</td>\n",
       "      <td>No</td>\n",
       "      <td>Yes</td>\n",
       "      <td>Yes</td>\n",
       "      <td>No</td>\n",
       "      <td>Yes</td>\n",
       "      <td>No</td>\n",
       "      <td>No</td>\n",
       "      <td>-3</td>\n",
       "      <td>61</td>\n",
       "      <td>Every three months</td>\n",
       "      <td>Female</td>\n",
       "    </tr>\n",
       "    <tr>\n",
       "      <th>1</th>\n",
       "      <td>Yes</td>\n",
       "      <td>Yes</td>\n",
       "      <td>No</td>\n",
       "      <td>Yes</td>\n",
       "      <td>Yes</td>\n",
       "      <td>Yes</td>\n",
       "      <td>Yes</td>\n",
       "      <td>Yes</td>\n",
       "      <td>Yes</td>\n",
       "      <td>No</td>\n",
       "      <td>No</td>\n",
       "      <td>+2</td>\n",
       "      <td>51</td>\n",
       "      <td>Every three months</td>\n",
       "      <td>Female</td>\n",
       "    </tr>\n",
       "    <tr>\n",
       "      <th>2</th>\n",
       "      <td>No</td>\n",
       "      <td>Yes</td>\n",
       "      <td>Yes</td>\n",
       "      <td>Yes</td>\n",
       "      <td>Yes</td>\n",
       "      <td>Yes</td>\n",
       "      <td>No</td>\n",
       "      <td>Yes</td>\n",
       "      <td>Yes</td>\n",
       "      <td>Yes</td>\n",
       "      <td>No</td>\n",
       "      <td>+1</td>\n",
       "      <td>62</td>\n",
       "      <td>Every three months</td>\n",
       "      <td>Female</td>\n",
       "    </tr>\n",
       "  </tbody>\n",
       "</table>\n",
       "</div>"
      ],
      "text/plain": [
       "  yummy convenient spicy fattening greasy fast cheap tasty expensive healthy  \\\n",
       "0    No        Yes    No       Yes     No  Yes   Yes    No       Yes      No   \n",
       "1   Yes        Yes    No       Yes    Yes  Yes   Yes   Yes       Yes      No   \n",
       "2    No        Yes   Yes       Yes    Yes  Yes    No   Yes       Yes     Yes   \n",
       "\n",
       "  disgusting Like  Age      VisitFrequency  Gender  \n",
       "0         No   -3   61  Every three months  Female  \n",
       "1         No   +2   51  Every three months  Female  \n",
       "2         No   +1   62  Every three months  Female  "
      ]
     },
     "execution_count": 6,
     "metadata": {},
     "output_type": "execute_result"
    }
   ],
   "source": [
    "# print first 3 rows of data\n",
    "mcdonalds.head(3)"
   ]
  },
  {
   "cell_type": "code",
   "execution_count": 7,
   "id": "24cc877a-5713-4da4-a3c5-d8bd722fe099",
   "metadata": {},
   "outputs": [],
   "source": [
    "# Replace 'yes' to 1 and 'no' to 0"
   ]
  },
  {
   "cell_type": "code",
   "execution_count": null,
   "id": "8f3de6ca-c284-43f3-a540-e0c9ac337961",
   "metadata": {},
   "outputs": [],
   "source": []
  },
  {
   "cell_type": "code",
   "execution_count": 8,
   "id": "3b945690-f9ef-444d-9f7e-b55672374c6c",
   "metadata": {},
   "outputs": [],
   "source": [
    "md_x=mcdonalds.iloc[:,:11]"
   ]
  },
  {
   "cell_type": "code",
   "execution_count": 9,
   "id": "15f50f77-887f-4b1d-8589-a01d088e1814",
   "metadata": {},
   "outputs": [],
   "source": [
    "MD_x=md_x.replace(['Yes','No'],[1,0])"
   ]
  },
  {
   "cell_type": "code",
   "execution_count": 10,
   "id": "8e09da36-e3c8-4b3a-b662-a19f17d4d174",
   "metadata": {},
   "outputs": [
    {
     "name": "stdout",
     "output_type": "stream",
     "text": [
      "<class 'pandas.core.frame.DataFrame'>\n",
      "RangeIndex: 1453 entries, 0 to 1452\n",
      "Data columns (total 11 columns):\n",
      " #   Column      Non-Null Count  Dtype\n",
      "---  ------      --------------  -----\n",
      " 0   yummy       1453 non-null   int64\n",
      " 1   convenient  1453 non-null   int64\n",
      " 2   spicy       1453 non-null   int64\n",
      " 3   fattening   1453 non-null   int64\n",
      " 4   greasy      1453 non-null   int64\n",
      " 5   fast        1453 non-null   int64\n",
      " 6   cheap       1453 non-null   int64\n",
      " 7   tasty       1453 non-null   int64\n",
      " 8   expensive   1453 non-null   int64\n",
      " 9   healthy     1453 non-null   int64\n",
      " 10  disgusting  1453 non-null   int64\n",
      "dtypes: int64(11)\n",
      "memory usage: 125.0 KB\n"
     ]
    }
   ],
   "source": [
    "MD_x.info()"
   ]
  },
  {
   "cell_type": "code",
   "execution_count": 11,
   "id": "b2ffabce-e9e5-4f33-a3c3-73a5b493d3a0",
   "metadata": {},
   "outputs": [
    {
     "data": {
      "text/plain": [
       "yummy         0.55\n",
       "convenient    0.91\n",
       "spicy         0.09\n",
       "fattening     0.87\n",
       "greasy        0.53\n",
       "fast          0.90\n",
       "cheap         0.60\n",
       "tasty         0.64\n",
       "expensive     0.36\n",
       "healthy       0.20\n",
       "disgusting    0.24\n",
       "dtype: float64"
      ]
     },
     "execution_count": 11,
     "metadata": {},
     "output_type": "execute_result"
    }
   ],
   "source": [
    "# Getting the round off mean\n",
    "np.round(MD_x.mean(), 2)"
   ]
  },
  {
   "cell_type": "markdown",
   "id": "fe516070-47bf-431f-9663-8ef0250dc68c",
   "metadata": {},
   "source": [
    "# <font color= 'red'> Insight:- </font> \n",
    "    1. Half of the respondents (55%) perceive McDonald’s as YUMMY.\n",
    "    2. 91% believe that eating at McDonald’s is CONVENIENT.\n",
    "    3. only 9% think that McDonald’s food is SPICY.\n",
    "    4. McDonald's food to be convenient, fast, and sometimes indulgent or high in calories.\n",
    "    5. Yummy, Greasy, Tasty, and Cheap :-These attributes have moderate mean scores, indicating that customers generally find McDonald's food to be enjoyable (yummy, tasty) and affordable (cheap).\n",
    "    "
   ]
  },
  {
   "cell_type": "code",
   "execution_count": null,
   "id": "262e27ab-7689-4f27-b3b1-4954bcee8250",
   "metadata": {},
   "outputs": [],
   "source": []
  },
  {
   "cell_type": "code",
   "execution_count": 12,
   "id": "2b11556d-7e78-49fb-b223-45862425b85a",
   "metadata": {},
   "outputs": [],
   "source": [
    "MD_pca=PCA()"
   ]
  },
  {
   "cell_type": "code",
   "execution_count": 13,
   "id": "c9cf7c86-464d-486d-8339-973a8ffbe6e1",
   "metadata": {},
   "outputs": [
    {
     "data": {
      "text/html": [
       "<style>#sk-container-id-1 {color: black;background-color: white;}#sk-container-id-1 pre{padding: 0;}#sk-container-id-1 div.sk-toggleable {background-color: white;}#sk-container-id-1 label.sk-toggleable__label {cursor: pointer;display: block;width: 100%;margin-bottom: 0;padding: 0.3em;box-sizing: border-box;text-align: center;}#sk-container-id-1 label.sk-toggleable__label-arrow:before {content: \"▸\";float: left;margin-right: 0.25em;color: #696969;}#sk-container-id-1 label.sk-toggleable__label-arrow:hover:before {color: black;}#sk-container-id-1 div.sk-estimator:hover label.sk-toggleable__label-arrow:before {color: black;}#sk-container-id-1 div.sk-toggleable__content {max-height: 0;max-width: 0;overflow: hidden;text-align: left;background-color: #f0f8ff;}#sk-container-id-1 div.sk-toggleable__content pre {margin: 0.2em;color: black;border-radius: 0.25em;background-color: #f0f8ff;}#sk-container-id-1 input.sk-toggleable__control:checked~div.sk-toggleable__content {max-height: 200px;max-width: 100%;overflow: auto;}#sk-container-id-1 input.sk-toggleable__control:checked~label.sk-toggleable__label-arrow:before {content: \"▾\";}#sk-container-id-1 div.sk-estimator input.sk-toggleable__control:checked~label.sk-toggleable__label {background-color: #d4ebff;}#sk-container-id-1 div.sk-label input.sk-toggleable__control:checked~label.sk-toggleable__label {background-color: #d4ebff;}#sk-container-id-1 input.sk-hidden--visually {border: 0;clip: rect(1px 1px 1px 1px);clip: rect(1px, 1px, 1px, 1px);height: 1px;margin: -1px;overflow: hidden;padding: 0;position: absolute;width: 1px;}#sk-container-id-1 div.sk-estimator {font-family: monospace;background-color: #f0f8ff;border: 1px dotted black;border-radius: 0.25em;box-sizing: border-box;margin-bottom: 0.5em;}#sk-container-id-1 div.sk-estimator:hover {background-color: #d4ebff;}#sk-container-id-1 div.sk-parallel-item::after {content: \"\";width: 100%;border-bottom: 1px solid gray;flex-grow: 1;}#sk-container-id-1 div.sk-label:hover label.sk-toggleable__label {background-color: #d4ebff;}#sk-container-id-1 div.sk-serial::before {content: \"\";position: absolute;border-left: 1px solid gray;box-sizing: border-box;top: 0;bottom: 0;left: 50%;z-index: 0;}#sk-container-id-1 div.sk-serial {display: flex;flex-direction: column;align-items: center;background-color: white;padding-right: 0.2em;padding-left: 0.2em;position: relative;}#sk-container-id-1 div.sk-item {position: relative;z-index: 1;}#sk-container-id-1 div.sk-parallel {display: flex;align-items: stretch;justify-content: center;background-color: white;position: relative;}#sk-container-id-1 div.sk-item::before, #sk-container-id-1 div.sk-parallel-item::before {content: \"\";position: absolute;border-left: 1px solid gray;box-sizing: border-box;top: 0;bottom: 0;left: 50%;z-index: -1;}#sk-container-id-1 div.sk-parallel-item {display: flex;flex-direction: column;z-index: 1;position: relative;background-color: white;}#sk-container-id-1 div.sk-parallel-item:first-child::after {align-self: flex-end;width: 50%;}#sk-container-id-1 div.sk-parallel-item:last-child::after {align-self: flex-start;width: 50%;}#sk-container-id-1 div.sk-parallel-item:only-child::after {width: 0;}#sk-container-id-1 div.sk-dashed-wrapped {border: 1px dashed gray;margin: 0 0.4em 0.5em 0.4em;box-sizing: border-box;padding-bottom: 0.4em;background-color: white;}#sk-container-id-1 div.sk-label label {font-family: monospace;font-weight: bold;display: inline-block;line-height: 1.2em;}#sk-container-id-1 div.sk-label-container {text-align: center;}#sk-container-id-1 div.sk-container {/* jupyter's `normalize.less` sets `[hidden] { display: none; }` but bootstrap.min.css set `[hidden] { display: none !important; }` so we also need the `!important` here to be able to override the default hidden behavior on the sphinx rendered scikit-learn.org. See: https://github.com/scikit-learn/scikit-learn/issues/21755 */display: inline-block !important;position: relative;}#sk-container-id-1 div.sk-text-repr-fallback {display: none;}</style><div id=\"sk-container-id-1\" class=\"sk-top-container\"><div class=\"sk-text-repr-fallback\"><pre>PCA()</pre><b>In a Jupyter environment, please rerun this cell to show the HTML representation or trust the notebook. <br />On GitHub, the HTML representation is unable to render, please try loading this page with nbviewer.org.</b></div><div class=\"sk-container\" hidden><div class=\"sk-item\"><div class=\"sk-estimator sk-toggleable\"><input class=\"sk-toggleable__control sk-hidden--visually\" id=\"sk-estimator-id-1\" type=\"checkbox\" checked><label for=\"sk-estimator-id-1\" class=\"sk-toggleable__label sk-toggleable__label-arrow\">PCA</label><div class=\"sk-toggleable__content\"><pre>PCA()</pre></div></div></div></div></div>"
      ],
      "text/plain": [
       "PCA()"
      ]
     },
     "execution_count": 13,
     "metadata": {},
     "output_type": "execute_result"
    }
   ],
   "source": [
    "MD_pca.fit(MD_x)"
   ]
  },
  {
   "cell_type": "code",
   "execution_count": 14,
   "id": "7062da39-9c32-4dfb-a5e9-7eec214350da",
   "metadata": {},
   "outputs": [],
   "source": [
    "proportion_of_variance=MD_pca.explained_variance_ratio_"
   ]
  },
  {
   "cell_type": "code",
   "execution_count": 15,
   "id": "ba22bd16-ed65-4092-851a-6d0e9d27d4f9",
   "metadata": {},
   "outputs": [],
   "source": [
    "cum=np.cumsum(MD_pca.explained_variance_ratio_)"
   ]
  },
  {
   "cell_type": "code",
   "execution_count": 16,
   "id": "d99a2ad7-73eb-4925-a86b-35b2e7041336",
   "metadata": {},
   "outputs": [],
   "source": [
    "Standard_deviation=MD_pca.explained_variance_ **0.5"
   ]
  },
  {
   "cell_type": "code",
   "execution_count": 17,
   "id": "889f2ca6-ed44-4659-b16d-81623d8f594d",
   "metadata": {},
   "outputs": [
    {
     "data": {
      "text/plain": [
       "Index(['yummy', 'convenient', 'spicy', 'fattening', 'greasy', 'fast', 'cheap',\n",
       "       'tasty', 'expensive', 'healthy', 'disgusting'],\n",
       "      dtype='object')"
      ]
     },
     "execution_count": 17,
     "metadata": {},
     "output_type": "execute_result"
    }
   ],
   "source": [
    "col=MD_x.columns\n",
    "col"
   ]
  },
  {
   "cell_type": "code",
   "execution_count": 18,
   "id": "7af1e3bb-29eb-4d61-91fa-0bf6dbe3ba7c",
   "metadata": {},
   "outputs": [
    {
     "data": {
      "text/html": [
       "<div>\n",
       "<style scoped>\n",
       "    .dataframe tbody tr th:only-of-type {\n",
       "        vertical-align: middle;\n",
       "    }\n",
       "\n",
       "    .dataframe tbody tr th {\n",
       "        vertical-align: top;\n",
       "    }\n",
       "\n",
       "    .dataframe thead th {\n",
       "        text-align: right;\n",
       "    }\n",
       "</style>\n",
       "<table border=\"1\" class=\"dataframe\">\n",
       "  <thead>\n",
       "    <tr style=\"text-align: right;\">\n",
       "      <th></th>\n",
       "      <th>PC1</th>\n",
       "      <th>PC2</th>\n",
       "      <th>PC3</th>\n",
       "      <th>PC4</th>\n",
       "      <th>PC5</th>\n",
       "      <th>PC6</th>\n",
       "      <th>PC7</th>\n",
       "      <th>PC8</th>\n",
       "      <th>PC9</th>\n",
       "      <th>PC10</th>\n",
       "      <th>PC11</th>\n",
       "    </tr>\n",
       "  </thead>\n",
       "  <tbody>\n",
       "    <tr>\n",
       "      <th>Standard deviation</th>\n",
       "      <td>0.757050</td>\n",
       "      <td>0.607456</td>\n",
       "      <td>0.504619</td>\n",
       "      <td>0.398799</td>\n",
       "      <td>0.337405</td>\n",
       "      <td>0.310275</td>\n",
       "      <td>0.289697</td>\n",
       "      <td>0.275122</td>\n",
       "      <td>0.265251</td>\n",
       "      <td>0.248842</td>\n",
       "      <td>0.236903</td>\n",
       "    </tr>\n",
       "    <tr>\n",
       "      <th>proportion_of_variance</th>\n",
       "      <td>0.299447</td>\n",
       "      <td>0.192797</td>\n",
       "      <td>0.133045</td>\n",
       "      <td>0.083096</td>\n",
       "      <td>0.059481</td>\n",
       "      <td>0.050300</td>\n",
       "      <td>0.043849</td>\n",
       "      <td>0.039548</td>\n",
       "      <td>0.036761</td>\n",
       "      <td>0.032353</td>\n",
       "      <td>0.029323</td>\n",
       "    </tr>\n",
       "    <tr>\n",
       "      <th>Cumulative Proportion</th>\n",
       "      <td>0.299447</td>\n",
       "      <td>0.492244</td>\n",
       "      <td>0.625290</td>\n",
       "      <td>0.708386</td>\n",
       "      <td>0.767866</td>\n",
       "      <td>0.818166</td>\n",
       "      <td>0.862015</td>\n",
       "      <td>0.901563</td>\n",
       "      <td>0.938323</td>\n",
       "      <td>0.970677</td>\n",
       "      <td>1.000000</td>\n",
       "    </tr>\n",
       "  </tbody>\n",
       "</table>\n",
       "</div>"
      ],
      "text/plain": [
       "                             PC1       PC2       PC3       PC4       PC5  \\\n",
       "Standard deviation      0.757050  0.607456  0.504619  0.398799  0.337405   \n",
       "proportion_of_variance  0.299447  0.192797  0.133045  0.083096  0.059481   \n",
       "Cumulative Proportion   0.299447  0.492244  0.625290  0.708386  0.767866   \n",
       "\n",
       "                             PC6       PC7       PC8       PC9      PC10  \\\n",
       "Standard deviation      0.310275  0.289697  0.275122  0.265251  0.248842   \n",
       "proportion_of_variance  0.050300  0.043849  0.039548  0.036761  0.032353   \n",
       "Cumulative Proportion   0.818166  0.862015  0.901563  0.938323  0.970677   \n",
       "\n",
       "                            PC11  \n",
       "Standard deviation      0.236903  \n",
       "proportion_of_variance  0.029323  \n",
       "Cumulative Proportion   1.000000  "
      ]
     },
     "execution_count": 18,
     "metadata": {},
     "output_type": "execute_result"
    }
   ],
   "source": [
    "pd.DataFrame({\"Standard deviation\":Standard_deviation,\n",
    "    \"proportion_of_variance\":proportion_of_variance,\n",
    "         \"Cumulative Proportion\": cum\n",
    "},index=[\"PC1\",\"PC2\",\"PC3\",\"PC4\",\"PC5\",\"PC6\",\"PC7\",\"PC8\",\"PC9\",\"PC10\",\"PC11\"]).transpose()"
   ]
  },
  {
   "cell_type": "markdown",
   "id": "82179660-d750-49d2-b7be-d2a473db98d6",
   "metadata": {},
   "source": [
    "# <font color=\"red\">Insight :- </font> PC1 and PC2 contain 50% of information."
   ]
  },
  {
   "cell_type": "code",
   "execution_count": 19,
   "id": "dad2194c-097e-44cb-9b2e-7b62f19f83b0",
   "metadata": {},
   "outputs": [
    {
     "data": {
      "text/plain": [
       "array([0.8, 0.6, 0.5, 0.4, 0.3, 0.3, 0.3, 0.3, 0.3, 0.2, 0.2])"
      ]
     },
     "execution_count": 19,
     "metadata": {},
     "output_type": "execute_result"
    }
   ],
   "source": [
    "# standard deviation with 1 decimal place value\n",
    "np.round(Standard_deviation,1)"
   ]
  },
  {
   "cell_type": "code",
   "execution_count": 20,
   "id": "ccdd06c1-cf4d-40f2-8c6e-a1c1dc46a1cd",
   "metadata": {},
   "outputs": [
    {
     "data": {
      "text/plain": [
       "array([[-0.47693349, -0.15533159, -0.00635636,  0.11623168,  0.3044427 ,\n",
       "        -0.10849325, -0.33718593, -0.47151394,  0.32904173, -0.21371062,\n",
       "         0.37475293],\n",
       "       [ 0.36378978,  0.016414  ,  0.01880869, -0.03409395, -0.06383884,\n",
       "        -0.0869722 , -0.61063276,  0.3073178 ,  0.60128596,  0.07659344,\n",
       "        -0.13965633],\n",
       "       [-0.30444402, -0.0625153 , -0.03701866, -0.32235949, -0.80237317,\n",
       "        -0.06464172, -0.14931026, -0.28726479,  0.02439661,  0.19205128,\n",
       "        -0.08857138],\n",
       "       [ 0.0551622 , -0.14242496,  0.19761927, -0.35413876,  0.2539601 ,\n",
       "        -0.09736269,  0.11895823, -0.00254696,  0.06781599,  0.76348804,\n",
       "         0.36953871],\n",
       "       [-0.30753507,  0.27760805,  0.07062017, -0.07340475,  0.36139895,\n",
       "         0.10793025, -0.12897259, -0.21089912, -0.00312457,  0.28784553,\n",
       "        -0.72920859],\n",
       "       [ 0.17073819, -0.34783006, -0.3550866 , -0.40651542,  0.20934711,\n",
       "        -0.59463206, -0.10324067, -0.07691443, -0.26134151, -0.17822612,\n",
       "        -0.21087805],\n",
       "       [-0.28051863, -0.05973793,  0.70763705, -0.38594277,  0.03616962,\n",
       "        -0.08684577, -0.04044934,  0.36045348, -0.06838452, -0.34961569,\n",
       "        -0.02679159],\n",
       "       [ 0.01304117, -0.11307868,  0.37593402,  0.58962241, -0.13824084,\n",
       "        -0.62779877,  0.14006047, -0.07279193,  0.02953939,  0.17630281,\n",
       "        -0.16718101],\n",
       "       [ 0.57240278, -0.01846534,  0.40027977, -0.16051227, -0.00284738,\n",
       "         0.16619659,  0.07606907, -0.63908592,  0.06699639, -0.1855722 ,\n",
       "        -0.07248255],\n",
       "       [-0.11028437, -0.66581756, -0.07563413, -0.00533813,  0.00870725,\n",
       "         0.23953197,  0.42808739,  0.0791838 ,  0.45439925, -0.03811713,\n",
       "        -0.28959188],\n",
       "       [ 0.04543901, -0.54161635,  0.14172992,  0.25090987,  0.00164229,\n",
       "         0.33926454, -0.48928285,  0.01955226, -0.49006853,  0.15760765,\n",
       "        -0.04066227]])"
      ]
     },
     "execution_count": 20,
     "metadata": {},
     "output_type": "execute_result"
    }
   ],
   "source": [
    "MD_pca.components_"
   ]
  },
  {
   "cell_type": "code",
   "execution_count": 21,
   "id": "5bbfb381-3a8b-42bf-b964-3f743621b016",
   "metadata": {},
   "outputs": [
    {
     "data": {
      "text/html": [
       "<div>\n",
       "<style scoped>\n",
       "    .dataframe tbody tr th:only-of-type {\n",
       "        vertical-align: middle;\n",
       "    }\n",
       "\n",
       "    .dataframe tbody tr th {\n",
       "        vertical-align: top;\n",
       "    }\n",
       "\n",
       "    .dataframe thead th {\n",
       "        text-align: right;\n",
       "    }\n",
       "</style>\n",
       "<table border=\"1\" class=\"dataframe\">\n",
       "  <thead>\n",
       "    <tr style=\"text-align: right;\">\n",
       "      <th></th>\n",
       "      <th>PC1</th>\n",
       "      <th>PC2</th>\n",
       "      <th>PC3</th>\n",
       "      <th>PC4</th>\n",
       "      <th>PC5</th>\n",
       "      <th>PC6</th>\n",
       "      <th>PC7</th>\n",
       "      <th>PC8</th>\n",
       "      <th>PC9</th>\n",
       "      <th>PC10</th>\n",
       "      <th>PC11</th>\n",
       "    </tr>\n",
       "  </thead>\n",
       "  <tbody>\n",
       "    <tr>\n",
       "      <th>yummy</th>\n",
       "      <td>-0.476933</td>\n",
       "      <td>0.363790</td>\n",
       "      <td>-0.304444</td>\n",
       "      <td>0.055162</td>\n",
       "      <td>-0.307535</td>\n",
       "      <td>0.170738</td>\n",
       "      <td>-0.280519</td>\n",
       "      <td>0.013041</td>\n",
       "      <td>0.572403</td>\n",
       "      <td>-0.110284</td>\n",
       "      <td>0.045439</td>\n",
       "    </tr>\n",
       "    <tr>\n",
       "      <th>convenient</th>\n",
       "      <td>-0.155332</td>\n",
       "      <td>0.016414</td>\n",
       "      <td>-0.062515</td>\n",
       "      <td>-0.142425</td>\n",
       "      <td>0.277608</td>\n",
       "      <td>-0.347830</td>\n",
       "      <td>-0.059738</td>\n",
       "      <td>-0.113079</td>\n",
       "      <td>-0.018465</td>\n",
       "      <td>-0.665818</td>\n",
       "      <td>-0.541616</td>\n",
       "    </tr>\n",
       "    <tr>\n",
       "      <th>spicy</th>\n",
       "      <td>-0.006356</td>\n",
       "      <td>0.018809</td>\n",
       "      <td>-0.037019</td>\n",
       "      <td>0.197619</td>\n",
       "      <td>0.070620</td>\n",
       "      <td>-0.355087</td>\n",
       "      <td>0.707637</td>\n",
       "      <td>0.375934</td>\n",
       "      <td>0.400280</td>\n",
       "      <td>-0.075634</td>\n",
       "      <td>0.141730</td>\n",
       "    </tr>\n",
       "    <tr>\n",
       "      <th>fattening</th>\n",
       "      <td>0.116232</td>\n",
       "      <td>-0.034094</td>\n",
       "      <td>-0.322359</td>\n",
       "      <td>-0.354139</td>\n",
       "      <td>-0.073405</td>\n",
       "      <td>-0.406515</td>\n",
       "      <td>-0.385943</td>\n",
       "      <td>0.589622</td>\n",
       "      <td>-0.160512</td>\n",
       "      <td>-0.005338</td>\n",
       "      <td>0.250910</td>\n",
       "    </tr>\n",
       "    <tr>\n",
       "      <th>greasy</th>\n",
       "      <td>0.304443</td>\n",
       "      <td>-0.063839</td>\n",
       "      <td>-0.802373</td>\n",
       "      <td>0.253960</td>\n",
       "      <td>0.361399</td>\n",
       "      <td>0.209347</td>\n",
       "      <td>0.036170</td>\n",
       "      <td>-0.138241</td>\n",
       "      <td>-0.002847</td>\n",
       "      <td>0.008707</td>\n",
       "      <td>0.001642</td>\n",
       "    </tr>\n",
       "    <tr>\n",
       "      <th>fast</th>\n",
       "      <td>-0.108493</td>\n",
       "      <td>-0.086972</td>\n",
       "      <td>-0.064642</td>\n",
       "      <td>-0.097363</td>\n",
       "      <td>0.107930</td>\n",
       "      <td>-0.594632</td>\n",
       "      <td>-0.086846</td>\n",
       "      <td>-0.627799</td>\n",
       "      <td>0.166197</td>\n",
       "      <td>0.239532</td>\n",
       "      <td>0.339265</td>\n",
       "    </tr>\n",
       "    <tr>\n",
       "      <th>cheap</th>\n",
       "      <td>-0.337186</td>\n",
       "      <td>-0.610633</td>\n",
       "      <td>-0.149310</td>\n",
       "      <td>0.118958</td>\n",
       "      <td>-0.128973</td>\n",
       "      <td>-0.103241</td>\n",
       "      <td>-0.040449</td>\n",
       "      <td>0.140060</td>\n",
       "      <td>0.076069</td>\n",
       "      <td>0.428087</td>\n",
       "      <td>-0.489283</td>\n",
       "    </tr>\n",
       "    <tr>\n",
       "      <th>tasty</th>\n",
       "      <td>-0.471514</td>\n",
       "      <td>0.307318</td>\n",
       "      <td>-0.287265</td>\n",
       "      <td>-0.002547</td>\n",
       "      <td>-0.210899</td>\n",
       "      <td>-0.076914</td>\n",
       "      <td>0.360453</td>\n",
       "      <td>-0.072792</td>\n",
       "      <td>-0.639086</td>\n",
       "      <td>0.079184</td>\n",
       "      <td>0.019552</td>\n",
       "    </tr>\n",
       "    <tr>\n",
       "      <th>expensive</th>\n",
       "      <td>0.329042</td>\n",
       "      <td>0.601286</td>\n",
       "      <td>0.024397</td>\n",
       "      <td>0.067816</td>\n",
       "      <td>-0.003125</td>\n",
       "      <td>-0.261342</td>\n",
       "      <td>-0.068385</td>\n",
       "      <td>0.029539</td>\n",
       "      <td>0.066996</td>\n",
       "      <td>0.454399</td>\n",
       "      <td>-0.490069</td>\n",
       "    </tr>\n",
       "    <tr>\n",
       "      <th>healthy</th>\n",
       "      <td>-0.213711</td>\n",
       "      <td>0.076593</td>\n",
       "      <td>0.192051</td>\n",
       "      <td>0.763488</td>\n",
       "      <td>0.287846</td>\n",
       "      <td>-0.178226</td>\n",
       "      <td>-0.349616</td>\n",
       "      <td>0.176303</td>\n",
       "      <td>-0.185572</td>\n",
       "      <td>-0.038117</td>\n",
       "      <td>0.157608</td>\n",
       "    </tr>\n",
       "    <tr>\n",
       "      <th>disgusting</th>\n",
       "      <td>0.374753</td>\n",
       "      <td>-0.139656</td>\n",
       "      <td>-0.088571</td>\n",
       "      <td>0.369539</td>\n",
       "      <td>-0.729209</td>\n",
       "      <td>-0.210878</td>\n",
       "      <td>-0.026792</td>\n",
       "      <td>-0.167181</td>\n",
       "      <td>-0.072483</td>\n",
       "      <td>-0.289592</td>\n",
       "      <td>-0.040662</td>\n",
       "    </tr>\n",
       "  </tbody>\n",
       "</table>\n",
       "</div>"
      ],
      "text/plain": [
       "                 PC1       PC2       PC3       PC4       PC5       PC6  \\\n",
       "yummy      -0.476933  0.363790 -0.304444  0.055162 -0.307535  0.170738   \n",
       "convenient -0.155332  0.016414 -0.062515 -0.142425  0.277608 -0.347830   \n",
       "spicy      -0.006356  0.018809 -0.037019  0.197619  0.070620 -0.355087   \n",
       "fattening   0.116232 -0.034094 -0.322359 -0.354139 -0.073405 -0.406515   \n",
       "greasy      0.304443 -0.063839 -0.802373  0.253960  0.361399  0.209347   \n",
       "fast       -0.108493 -0.086972 -0.064642 -0.097363  0.107930 -0.594632   \n",
       "cheap      -0.337186 -0.610633 -0.149310  0.118958 -0.128973 -0.103241   \n",
       "tasty      -0.471514  0.307318 -0.287265 -0.002547 -0.210899 -0.076914   \n",
       "expensive   0.329042  0.601286  0.024397  0.067816 -0.003125 -0.261342   \n",
       "healthy    -0.213711  0.076593  0.192051  0.763488  0.287846 -0.178226   \n",
       "disgusting  0.374753 -0.139656 -0.088571  0.369539 -0.729209 -0.210878   \n",
       "\n",
       "                 PC7       PC8       PC9      PC10      PC11  \n",
       "yummy      -0.280519  0.013041  0.572403 -0.110284  0.045439  \n",
       "convenient -0.059738 -0.113079 -0.018465 -0.665818 -0.541616  \n",
       "spicy       0.707637  0.375934  0.400280 -0.075634  0.141730  \n",
       "fattening  -0.385943  0.589622 -0.160512 -0.005338  0.250910  \n",
       "greasy      0.036170 -0.138241 -0.002847  0.008707  0.001642  \n",
       "fast       -0.086846 -0.627799  0.166197  0.239532  0.339265  \n",
       "cheap      -0.040449  0.140060  0.076069  0.428087 -0.489283  \n",
       "tasty       0.360453 -0.072792 -0.639086  0.079184  0.019552  \n",
       "expensive  -0.068385  0.029539  0.066996  0.454399 -0.490069  \n",
       "healthy    -0.349616  0.176303 -0.185572 -0.038117  0.157608  \n",
       "disgusting -0.026792 -0.167181 -0.072483 -0.289592 -0.040662  "
      ]
     },
     "execution_count": 21,
     "metadata": {},
     "output_type": "execute_result"
    }
   ],
   "source": [
    "pc=pd.DataFrame(MD_pca.components_,columns=col,index=[\"PC1\",\"PC2\",\"PC3\",\"PC4\",\"PC5\",\"PC6\",\"PC7\",\"PC8\",\"PC9\",\"PC10\",\"PC11\"]).transpose()\n",
    "pc"
   ]
  },
  {
   "cell_type": "code",
   "execution_count": 22,
   "id": "3fbc4201-6083-4340-8920-92f13a672726",
   "metadata": {},
   "outputs": [
    {
     "data": {
      "image/png": "[encoded data removed]",
      "text/plain": [
       "<Figure size 640x480 with 1 Axes>"
      ]
     },
     "metadata": {},
     "output_type": "display_data"
    }
   ],
   "source": [
    "sns.scatterplot(x=MD_pca.transform(MD_x)[:,0],y=MD_pca.transform(MD_x)[:,1])\n",
    "principal_axes = MD_pca.components_[:11]\n",
    "\n",
    "# Plot the principal axes\n",
    "for i, variable in enumerate(MD_x.columns):\n",
    "    plt.arrow(0, 0, MD_pca.components_[0, i], MD_pca.components_[1, i], color='r', alpha=0.5)\n"
   ]
  },
  {
   "cell_type": "code",
   "execution_count": 23,
   "id": "1c16422b-375e-4559-8bb3-f435bbd465af",
   "metadata": {},
   "outputs": [
    {
     "data": {
      "text/plain": [
       "array([-0.47693349, -0.15533159, -0.00635636,  0.11623168,  0.3044427 ,\n",
       "       -0.10849325, -0.33718593, -0.47151394,  0.32904173, -0.21371062,\n",
       "        0.37475293])"
      ]
     },
     "execution_count": 23,
     "metadata": {},
     "output_type": "execute_result"
    }
   ],
   "source": [
    "MD_pca.components_[0]"
   ]
  },
  {
   "cell_type": "code",
   "execution_count": 24,
   "id": "794066de-3277-4911-ba6d-e7fc2fc4a059",
   "metadata": {},
   "outputs": [
    {
     "data": {
      "text/plain": [
       "array([ 0.36378978,  0.016414  ,  0.01880869, -0.03409395, -0.06383884,\n",
       "       -0.0869722 , -0.61063276,  0.3073178 ,  0.60128596,  0.07659344,\n",
       "       -0.13965633])"
      ]
     },
     "execution_count": 24,
     "metadata": {},
     "output_type": "execute_result"
    }
   ],
   "source": [
    "MD_pca.components_[1]"
   ]
  },
  {
   "cell_type": "code",
   "execution_count": 25,
   "id": "45f0254c-3cc6-4491-a9ed-1625c0fa4c43",
   "metadata": {},
   "outputs": [
    {
     "data": {
      "text/plain": [
       "array([[-0.47693349, -0.15533159, -0.00635636,  0.11623168,  0.3044427 ,\n",
       "        -0.10849325, -0.33718593, -0.47151394,  0.32904173, -0.21371062,\n",
       "         0.37475293],\n",
       "       [ 0.36378978,  0.016414  ,  0.01880869, -0.03409395, -0.06383884,\n",
       "        -0.0869722 , -0.61063276,  0.3073178 ,  0.60128596,  0.07659344,\n",
       "        -0.13965633],\n",
       "       [-0.30444402, -0.0625153 , -0.03701866, -0.32235949, -0.80237317,\n",
       "        -0.06464172, -0.14931026, -0.28726479,  0.02439661,  0.19205128,\n",
       "        -0.08857138],\n",
       "       [ 0.0551622 , -0.14242496,  0.19761927, -0.35413876,  0.2539601 ,\n",
       "        -0.09736269,  0.11895823, -0.00254696,  0.06781599,  0.76348804,\n",
       "         0.36953871],\n",
       "       [-0.30753507,  0.27760805,  0.07062017, -0.07340475,  0.36139895,\n",
       "         0.10793025, -0.12897259, -0.21089912, -0.00312457,  0.28784553,\n",
       "        -0.72920859],\n",
       "       [ 0.17073819, -0.34783006, -0.3550866 , -0.40651542,  0.20934711,\n",
       "        -0.59463206, -0.10324067, -0.07691443, -0.26134151, -0.17822612,\n",
       "        -0.21087805],\n",
       "       [-0.28051863, -0.05973793,  0.70763705, -0.38594277,  0.03616962,\n",
       "        -0.08684577, -0.04044934,  0.36045348, -0.06838452, -0.34961569,\n",
       "        -0.02679159],\n",
       "       [ 0.01304117, -0.11307868,  0.37593402,  0.58962241, -0.13824084,\n",
       "        -0.62779877,  0.14006047, -0.07279193,  0.02953939,  0.17630281,\n",
       "        -0.16718101],\n",
       "       [ 0.57240278, -0.01846534,  0.40027977, -0.16051227, -0.00284738,\n",
       "         0.16619659,  0.07606907, -0.63908592,  0.06699639, -0.1855722 ,\n",
       "        -0.07248255],\n",
       "       [-0.11028437, -0.66581756, -0.07563413, -0.00533813,  0.00870725,\n",
       "         0.23953197,  0.42808739,  0.0791838 ,  0.45439925, -0.03811713,\n",
       "        -0.28959188],\n",
       "       [ 0.04543901, -0.54161635,  0.14172992,  0.25090987,  0.00164229,\n",
       "         0.33926454, -0.48928285,  0.01955226, -0.49006853,  0.15760765,\n",
       "        -0.04066227]])"
      ]
     },
     "execution_count": 25,
     "metadata": {},
     "output_type": "execute_result"
    }
   ],
   "source": [
    "MD_pca.components_"
   ]
  },
  {
   "cell_type": "markdown",
   "id": "215d3aa2-da6e-4bc7-9f80-052f45e693fa",
   "metadata": {},
   "source": [
    "# <font color=\"red\"> Step 5: Extracting Segments </font>"
   ]
  },
  {
   "cell_type": "code",
   "execution_count": 26,
   "id": "c41c6b5f-1f8f-424f-875f-a360c22facd1",
   "metadata": {},
   "outputs": [],
   "source": [
    "from sklearn.cluster import KMeans"
   ]
  },
  {
   "cell_type": "code",
   "execution_count": 27,
   "id": "deec3831-da75-46f8-9fa4-c6e497619c92",
   "metadata": {},
   "outputs": [],
   "source": [
    "np.random.seed(1234)"
   ]
  },
  {
   "cell_type": "markdown",
   "id": "25e7f9df-4e59-4f0d-b13b-ee2ba7a073a6",
   "metadata": {},
   "source": [
    "# We try to find number of clusters which gives best result :-"
   ]
  },
  {
   "cell_type": "code",
   "execution_count": 28,
   "id": "87141257-895f-44de-a84a-24adbce0edba",
   "metadata": {},
   "outputs": [],
   "source": [
    "\n",
    "wcss=[]\n",
    "centroid=[]\n",
    "for k in range(1,9):\n",
    "    kmeans=KMeans(n_clusters=k,n_init=10,random_state=1234)\n",
    "    kmeans.fit(MD_x)\n",
    "    wcss.append(kmeans.inertia_)\n",
    "    centroid.append(kmeans.cluster_centers_)\n",
    "    "
   ]
  },
  {
   "cell_type": "code",
   "execution_count": 29,
   "id": "eb530997-dc7f-47d8-a741-8de2ecc5a3f5",
   "metadata": {},
   "outputs": [
    {
     "data": {
      "text/plain": [
       "1182.100018613879"
      ]
     },
     "execution_count": 29,
     "metadata": {},
     "output_type": "execute_result"
    }
   ],
   "source": [
    "kmeans.inertia_"
   ]
  },
  {
   "cell_type": "code",
   "execution_count": 30,
   "id": "a0fbfc2a-0bb9-4956-b007-d527420c17ad",
   "metadata": {},
   "outputs": [
    {
     "data": {
      "text/plain": [
       "[2779.040605643496,\n",
       " 2145.5037269171585,\n",
       " 1818.7176591653865,\n",
       " 1604.107291540792,\n",
       " 1434.6104173514595,\n",
       " 1331.6524400071678,\n",
       " 1248.4178870553144,\n",
       " 1182.100018613879]"
      ]
     },
     "execution_count": 30,
     "metadata": {},
     "output_type": "execute_result"
    }
   ],
   "source": [
    "wcss"
   ]
  },
  {
   "cell_type": "code",
   "execution_count": 31,
   "id": "a6ef9ba5-c31d-4c6a-9303-725d4e610932",
   "metadata": {},
   "outputs": [
    {
     "data": {
      "image/png": "[encoded data removed]",
      "text/plain": [
       "<Figure size 640x480 with 1 Axes>"
      ]
     },
     "metadata": {},
     "output_type": "display_data"
    }
   ],
   "source": [
    "plt.bar(x=range(1,9),height=wcss)\n",
    "plt.xlabel(\"Number of cluster\")\n",
    "plt.ylabel(\"sum of within cluster distances\")\n",
    "plt.show()"
   ]
  },
  {
   "cell_type": "markdown",
   "id": "8f17c9d5-4941-42b3-a156-8176c4be3f6b",
   "metadata": {},
   "source": [
    "# we do this as given in the code but in pandas we also use elbow method to find number of cluster which give good result. "
   ]
  },
  {
   "cell_type": "code",
   "execution_count": 32,
   "id": "93bfdf28-bc6b-4d09-b80c-8de38d005f43",
   "metadata": {},
   "outputs": [
    {
     "data": {
      "text/plain": [
       "8"
      ]
     },
     "execution_count": 32,
     "metadata": {},
     "output_type": "execute_result"
    }
   ],
   "source": [
    "len(wcss)"
   ]
  },
  {
   "cell_type": "code",
   "execution_count": 33,
   "id": "5c4c4362-2537-4153-9cb8-569247f1a5ec",
   "metadata": {},
   "outputs": [
    {
     "data": {
      "image/png": "[encoded data removed]",
      "text/plain": [
       "<Figure size 640x480 with 1 Axes>"
      ]
     },
     "metadata": {},
     "output_type": "display_data"
    }
   ],
   "source": [
    "sns.lineplot(x=range(1,9),y=wcss)\n",
    "plt.title(\"Try to find number of cluster by elbow method\")\n",
    "plt.xlabel(\"Number of cluster\")\n",
    "plt.ylabel(\"Within-cluster Sum of Squares (Inertia)\")\n",
    "plt.show()"
   ]
  },
  {
   "cell_type": "code",
   "execution_count": 34,
   "id": "1459bb8e-72ec-4ced-96ec-bac74090c700",
   "metadata": {},
   "outputs": [],
   "source": [
    "# insight :- we saw a little bit sharpness at Number of cluster = 5 , so we take number of cluster = 5 for kmean modeling"
   ]
  },
  {
   "cell_type": "code",
   "execution_count": 35,
   "id": "87895f59-3c61-44fd-af8b-d26430742af4",
   "metadata": {},
   "outputs": [],
   "source": [
    "Optimal_cluster=5"
   ]
  },
  {
   "cell_type": "code",
   "execution_count": 36,
   "id": "d2908a51-5e2d-46d3-8863-447e21794d0a",
   "metadata": {},
   "outputs": [],
   "source": [
    "# we can also find optimal cluster by using Silhouette_score"
   ]
  },
  {
   "cell_type": "code",
   "execution_count": null,
   "id": "65e3878f-15e5-4126-818f-6b10e7cd53a2",
   "metadata": {},
   "outputs": [],
   "source": []
  },
  {
   "cell_type": "code",
   "execution_count": 37,
   "id": "800eea7e-2000-4cba-92cd-bd1d171e5c97",
   "metadata": {},
   "outputs": [],
   "source": [
    "silhouette_scores=[]\n",
    "kmeans_list=[]\n",
    "for i in range(2,9):\n",
    "    kmeans1=KMeans(n_clusters=i,n_init=10,random_state=1234)\n",
    "    labels=kmeans1.fit_predict(MD_x)\n",
    "    silhouette_scores.append(silhouette_score(MD_x,labels))\n",
    "    kmeans_list.append(kmeans1)"
   ]
  },
  {
   "cell_type": "code",
   "execution_count": 38,
   "id": "56854a3e-24f0-418a-b9bf-e60f6ccc199a",
   "metadata": {},
   "outputs": [],
   "source": [
    "# kmeans_list"
   ]
  },
  {
   "cell_type": "code",
   "execution_count": 39,
   "id": "153633bc-93db-4b66-96c9-a6e23053f708",
   "metadata": {},
   "outputs": [
    {
     "data": {
      "text/plain": [
       "[0.24441701827275675,\n",
       " 0.23915373940875356,\n",
       " 0.256821716312148,\n",
       " 0.2612871730877041,\n",
       " 0.2716093535523477,\n",
       " 0.2795180738626384,\n",
       " 0.28648799619628673]"
      ]
     },
     "execution_count": 39,
     "metadata": {},
     "output_type": "execute_result"
    }
   ],
   "source": [
    "silhouette_scores"
   ]
  },
  {
   "cell_type": "code",
   "execution_count": 40,
   "id": "d1181407-6395-493b-9c35-574d72da8a07",
   "metadata": {},
   "outputs": [
    {
     "data": {
      "image/png": "[encoded data removed]",
      "text/plain": [
       "<Figure size 640x480 with 1 Axes>"
      ]
     },
     "metadata": {},
     "output_type": "display_data"
    }
   ],
   "source": [
    "plt.plot(range(2,9), silhouette_scores, marker='o')\n",
    "plt.xlabel('Number of Clusters')\n",
    "plt.ylabel('Silhouette Score')\n",
    "plt.title('Silhouette Score for Optimal Number of Clusters')\n",
    "plt.show()"
   ]
  },
  {
   "cell_type": "code",
   "execution_count": 41,
   "id": "74001f49-3fc1-4b5f-9160-9e11a1bb397f",
   "metadata": {},
   "outputs": [],
   "source": [
    "cluster_range=range(2,9)\n",
    "from sklearn.utils import resample"
   ]
  },
  {
   "cell_type": "code",
   "execution_count": 42,
   "id": "943e11fb-6529-491c-a618-65c9d520014e",
   "metadata": {},
   "outputs": [],
   "source": [
    "# PERFORMING K-MEANS CLUSTERING"
   ]
  },
  {
   "cell_type": "code",
   "execution_count": 43,
   "id": "e240c0de-b251-407b-a4a4-ab17b1bc347e",
   "metadata": {},
   "outputs": [],
   "source": [
    "kmeans=KMeans(n_clusters=5,random_state=1234)\n",
    "MD_kmeans=kmeans.fit(MD_x)"
   ]
  },
  {
   "cell_type": "code",
   "execution_count": 44,
   "id": "d04a0d41-8484-4fa0-b3e5-c703f7f35eb9",
   "metadata": {},
   "outputs": [],
   "source": [
    "# plotting kmeans result"
   ]
  },
  {
   "cell_type": "code",
   "execution_count": 45,
   "id": "fe46021b-6ae7-4f9f-80bc-e12b9898c095",
   "metadata": {},
   "outputs": [
    {
     "data": {
      "image/png": "[encoded data removed]",
      "text/plain": [
       "<Figure size 640x480 with 2 Axes>"
      ]
     },
     "metadata": {},
     "output_type": "display_data"
    }
   ],
   "source": [
    "plt.scatter(MD_pca.transform(MD_x)[:,0],MD_pca.transform(MD_x)[:,1],c=MD_kmeans.labels_)\n",
    "plt.xlabel('PC1')\n",
    "plt.ylabel('PC2')\n",
    "plt.colorbar(label='Cluster')\n",
    "plt.show()"
   ]
  },
  {
   "cell_type": "code",
   "execution_count": 46,
   "id": "5a0d798f-5ca8-40e2-9080-791a691e7fa7",
   "metadata": {},
   "outputs": [],
   "source": [
    "# Performing bootstrapped K-means clustering:"
   ]
  },
  {
   "cell_type": "markdown",
   "id": "e9c5bd18-b127-4628-95ba-6b4f2cb3c576",
   "metadata": {},
   "source": [
    "# Global stability "
   ]
  },
  {
   "cell_type": "code",
   "execution_count": 47,
   "id": "2d7c5896-6da0-409b-8244-4176a4f6d074",
   "metadata": {},
   "outputs": [],
   "source": [
    "def kmeans_clustering(data, n_clusters):\n",
    "    kmeans = KMeans(n_clusters=n_clusters, random_state=1234)\n",
    "    labels = kmeans.fit_predict(data)\n",
    "    return labels"
   ]
  },
  {
   "cell_type": "code",
   "execution_count": 48,
   "id": "186d1162-09de-4c8b-9dab-015d6ff77b7a",
   "metadata": {},
   "outputs": [],
   "source": [
    "# comparing the labels by using adjusted_rand_score\n",
    "def calculate_adjusted_rand_index(labels_true, labels_pred):\n",
    "    return adjusted_rand_score(labels_true, labels_pred)"
   ]
  },
  {
   "cell_type": "code",
   "execution_count": 49,
   "id": "85df08fe-dbaa-410b-9e12-640c2a879e33",
   "metadata": {},
   "outputs": [],
   "source": [
    "# calculating the stability score\n",
    "def compute_global_stability(data, n_clusters, n_bootstraps):\n",
    "    stability_scores = []\n",
    "    n_samples = data.shape[0]\n",
    "    \n",
    "    for _ in range(n_bootstraps):\n",
    "        # Generate a bootstrap sample\n",
    "        data_boot = resample(data, replace=True, n_samples=n_samples, random_state=None)\n",
    "        \n",
    "        # Perform k-means clustering on the bootstrap sample\n",
    "        labels_boot = kmeans_clustering(data_boot, n_clusters)\n",
    "        \n",
    "        # Calculate adjusted Rand index between original labels and bootstrap labels\n",
    "        ARI = calculate_adjusted_rand_index(labels_true, labels_boot)\n",
    "        stability_scores.append(ARI)\n",
    "    \n",
    "    return stability_scores"
   ]
  },
  {
   "cell_type": "code",
   "execution_count": 50,
   "id": "4fec83bf-06fa-423a-87b1-3d092ab49187",
   "metadata": {},
   "outputs": [],
   "source": [
    "data=MD_x\n",
    "labels_true=MD_kmeans.labels_\n",
    "n_clusters_range=range(2,9)\n",
    "n_bootstraps=100"
   ]
  },
  {
   "cell_type": "code",
   "execution_count": 51,
   "id": "26ae25fb-21b2-4f82-9c68-e98d654bd626",
   "metadata": {},
   "outputs": [],
   "source": [
    "# Compute stability scores for each number of clusters\n",
    "global_stability = {}\n",
    "for n_clusters in n_clusters_range:\n",
    "    stability_scores = compute_global_stability(data, n_clusters, n_bootstraps)\n",
    "    global_stability[n_clusters] = stability_scores\n"
   ]
  },
  {
   "cell_type": "code",
   "execution_count": 52,
   "id": "c9d11acd-aa4d-4708-abc2-e7ada2ebb86c",
   "metadata": {},
   "outputs": [
    {
     "data": {
      "image/png": "[encoded data removed]",
      "text/plain": [
       "<Figure size 1000x600 with 1 Axes>"
      ]
     },
     "metadata": {},
     "output_type": "display_data"
    }
   ],
   "source": [
    "# Visualize global stability scores\n",
    "plt.figure(figsize=(10, 6))\n",
    "for n_clusters, stability_scores in global_stability.items():\n",
    "    plt.boxplot(stability_scores, positions=[n_clusters], widths=0.6, showfliers=False)\n",
    "plt.xlabel('Number of Clusters')\n",
    "plt.ylabel('Adjusted Rand Index')\n",
    "plt.title('Global Stability of K-Means Clustering')\n",
    "plt.xticks(list(global_stability.keys()))\n",
    "plt.show()"
   ]
  },
  {
   "cell_type": "code",
   "execution_count": 53,
   "id": "d1a75b97-8398-4e69-80ae-9a09cf58033f",
   "metadata": {},
   "outputs": [
    {
     "data": {
      "text/plain": [
       "Text(0.5, 1.0, 'Histogram of Cluster Memberships')"
      ]
     },
     "execution_count": 53,
     "metadata": {},
     "output_type": "execute_result"
    },
    {
     "data": {
      "image/png": "[encoded data removed]",
      "text/plain": [
       "<Figure size 640x480 with 1 Axes>"
      ]
     },
     "metadata": {},
     "output_type": "display_data"
    }
   ],
   "source": [
    "cluster_labels = MD_kmeans.labels_\n",
    "\n",
    "# Assuming MD.x is the data used for clustering\n",
    "data = MD_x\n",
    "\n",
    "# Create histogram\n",
    "plt.hist(cluster_labels, bins=len(set(cluster_labels)), range=(0, len(set(cluster_labels))), align='mid')\n",
    "\n",
    "# Set labels and title\n",
    "plt.xlabel('Cluster')\n",
    "plt.ylabel('Frequency')\n",
    "plt.title('Histogram of Cluster Memberships')"
   ]
  },
  {
   "cell_type": "markdown",
   "id": "d17138c0-a5dd-49bf-bbb3-0d88ddbef689",
   "metadata": {},
   "source": [
    "# Segment Level Stability Analysis"
   ]
  },
  {
   "cell_type": "code",
   "execution_count": 54,
   "id": "bc191068-bd99-4433-9863-231379b770df",
   "metadata": {},
   "outputs": [
    {
     "data": {
      "image/png": "[encoded data removed]",
      "text/plain": [
       "<Figure size 640x480 with 2 Axes>"
      ]
     },
     "metadata": {},
     "output_type": "display_data"
    }
   ],
   "source": [
    "\n",
    "from sklearn.metrics import adjusted_rand_score\n",
    "\n",
    "# Calculate adjusted Rand index between each pair of clustering results\n",
    "n_solutions = len(kmeans_list)\n",
    "rand_indices = np.zeros((n_solutions, n_solutions))\n",
    "for i in range(n_solutions):\n",
    "    for j in range(n_solutions):\n",
    "        rand_indices[i, j] = adjusted_rand_score(kmeans_list[i].labels_, kmeans_list[j].labels_)\n",
    "\n",
    "# Plot the heatmap of adjusted Rand indices\n",
    "plt.imshow(rand_indices, cmap='viridis', interpolation='nearest')\n",
    "plt.colorbar(label='Adjusted Rand Index')\n",
    "plt.xlabel('Solution')\n",
    "plt.ylabel('Solution')\n",
    "plt.title('Segment Level Stability Across Solutions')\n",
    "plt.show()"
   ]
  },
  {
   "cell_type": "markdown",
   "id": "30e0e37e-cc7a-4eeb-aca4-fbd23e1032ba",
   "metadata": {},
   "source": [
    "# Using Mixtures of Distributions"
   ]
  },
  {
   "cell_type": "code",
   "execution_count": 55,
   "id": "8651dd02-8fdb-4aae-af11-6cbda75cbf58",
   "metadata": {},
   "outputs": [
    {
     "data": {
      "image/png": "[encoded data removed]",
      "text/plain": [
       "<Figure size 640x480 with 1 Axes>"
      ]
     },
     "metadata": {},
     "output_type": "display_data"
    },
    {
     "name": "stdout",
     "output_type": "stream",
     "text": [
      "mixture    0    1    2    3    4\n",
      "kmeans                          \n",
      "0         27    0    5    1  138\n",
      "1          0  230   40    0    0\n",
      "2          0    0   43  246    0\n",
      "3         12   96   15    3    0\n",
      "4          0    0  134    0    4\n",
      "5        218    0    0    0    0\n",
      "6          0    1  126    5    6\n",
      "7         39    5   33    0   26\n",
      "mixture   0    1   2    3\n",
      "kmeans                   \n",
      "0        77    0   4   90\n",
      "1         9  261   0    0\n",
      "2         7    0   2  280\n",
      "3         9  116   1    0\n",
      "4         1   58   9   70\n",
      "5        12   83   0  123\n",
      "6         3    0  46   89\n",
      "7        11   80  12    0\n",
      "Log Likelihood with initialization: 11.727872558164462\n",
      "Log Likelihood of best model: 9.773972053233146\n"
     ]
    }
   ],
   "source": [
    "from sklearn.mixture import GaussianMixture\n",
    "from sklearn.metrics import adjusted_rand_score\n",
    "\n",
    "# Assuming MD_x is the binarized data matrix\n",
    "# Assuming MD_k4 contains cluster labels for the four-segment k-means solution\n",
    "\n",
    "# Perform latent class analysis with a finite mixture of binary distributions\n",
    "n_components_range = range(2, 9)\n",
    "models = []\n",
    "for n_components in n_components_range:\n",
    "    model = GaussianMixture(n_components=n_components, covariance_type='full', random_state=1234)\n",
    "    model.fit(MD_x)\n",
    "    models.append(model)\n",
    "\n",
    "# Plot information criteria to choose the number of segments\n",
    "AIC_values = [model.aic(MD_x) for model in models]\n",
    "BIC_values = [model.bic(MD_x) for model in models]\n",
    "plt.plot(n_components_range, AIC_values, label='AIC')\n",
    "plt.plot(n_components_range, BIC_values, label='BIC')\n",
    "plt.xlabel('Number of segments')\n",
    "plt.ylabel('Value of information criteria')\n",
    "plt.title('Information Criteria for Latent Class Analysis')\n",
    "plt.legend()\n",
    "plt.show()\n",
    "\n",
    "# Compare latent class analysis with k-means clustering\n",
    "kmeans_labels = labels\n",
    "best_model = models[3]  # Choosing the model with four components (segments)\n",
    "latent_class_labels = best_model.predict(MD_x)\n",
    "table = pd.crosstab(index=kmeans_labels, columns=latent_class_labels, rownames=['kmeans'], colnames=['mixture'])\n",
    "print(table)\n",
    "\n",
    "# Initialize mixture model using k-means solution\n",
    "init_labels = kmeans_labels\n",
    "model_with_init = GaussianMixture(n_components=4, covariance_type='full', random_state=1234, init_params='kmeans', n_init=1)\n",
    "model_with_init.fit(MD_x)\n",
    "\n",
    "# Compare initialized mixture model with k-means solution\n",
    "latent_class_labels_with_init = model_with_init.predict(MD_x)\n",
    "table_with_init = pd.crosstab(index=kmeans_labels, columns=latent_class_labels_with_init, rownames=['kmeans'], colnames=['mixture'])\n",
    "print(table_with_init)\n",
    "\n",
    "# Compare log-likelihood values\n",
    "log_likelihood_with_init = model_with_init.score(MD_x)\n",
    "log_likelihood_best_model = best_model.score(MD_x)\n",
    "print(\"Log Likelihood with initialization:\", log_likelihood_with_init)\n",
    "print(\"Log Likelihood of best model:\", log_likelihood_best_model)"
   ]
  },
  {
   "cell_type": "markdown",
   "id": "9dcb1fe9-200c-4d21-bb76-e4c55a3beb01",
   "metadata": {},
   "source": [
    "#  finite mixtures of linear regression models "
   ]
  },
  {
   "cell_type": "code",
   "execution_count": 56,
   "id": "802a7e27-6038-4581-8684-52d5b006fbbe",
   "metadata": {},
   "outputs": [],
   "source": [
    "mcdonalds['Like'].replace(['I love it!+5','I hate it!-5'],['5','-5'],inplace=True)"
   ]
  },
  {
   "cell_type": "code",
   "execution_count": 59,
   "id": "a2da916b-b99b-44ee-b8d9-b42e436af494",
   "metadata": {},
   "outputs": [],
   "source": [
    "from scipy.cluster import hierarchy as shc"
   ]
  },
  {
   "cell_type": "code",
   "execution_count": 65,
   "id": "96e01b2f-55cc-453e-b7ce-097da779ee4b",
   "metadata": {},
   "outputs": [
    {
     "data": {
      "image/png": "[encoded data removed]",
      "text/plain": [
       "<Figure size 1600x800 with 1 Axes>"
      ]
     },
     "metadata": {},
     "output_type": "display_data"
    }
   ],
   "source": [
    "plt.figure(figsize=(16,8))\n",
    "shc.dendrogram(shc.linkage(MD_x,method=\"complete\"))\n",
    "plt.show()"
   ]
  },
  {
   "cell_type": "code",
   "execution_count": 66,
   "id": "9d8c899d-97eb-4de6-b96e-ee5f10b140ba",
   "metadata": {},
   "outputs": [],
   "source": [
    "from sklearn.cluster import AgglomerativeClustering"
   ]
  },
  {
   "cell_type": "code",
   "execution_count": 69,
   "id": "76fd01d6-ffe6-4b88-bdd1-3baef679fe18",
   "metadata": {},
   "outputs": [],
   "source": [
    "alg=AgglomerativeClustering(n_clusters=5,linkage ='complete')"
   ]
  },
  {
   "cell_type": "code",
   "execution_count": 71,
   "id": "3910c630-a16c-4665-ab50-5c616d2a843e",
   "metadata": {},
   "outputs": [],
   "source": [
    "Agg_labels=alg.fit_predict(MD_x)"
   ]
  },
  {
   "cell_type": "code",
   "execution_count": null,
   "id": "10b0c239-ae3e-4e6b-99ab-c506dfb015a9",
   "metadata": {},
   "outputs": [],
   "source": []
  },
  {
   "cell_type": "code",
   "execution_count": null,
   "id": "a87bf73a-57f0-4e63-ab31-93fc06b0666b",
   "metadata": {},
   "outputs": [],
   "source": []
  },
  {
   "cell_type": "code",
   "execution_count": null,
   "id": "6b1cdf6b-f202-4944-822d-eec7ca1fdea3",
   "metadata": {},
   "outputs": [],
   "source": []
  },
  {
   "cell_type": "code",
   "execution_count": null,
   "id": "238c0645-61ac-46fc-bb60-10c307ddc2c3",
   "metadata": {},
   "outputs": [],
   "source": []
  },
  {
   "cell_type": "code",
   "execution_count": null,
   "id": "63f92d51-1981-4cb2-84bb-6f2d2052b018",
   "metadata": {},
   "outputs": [],
   "source": []
  },
  {
   "cell_type": "code",
   "execution_count": 58,
   "id": "93f99aba-0750-426d-9131-7c7f13fa1565",
   "metadata": {},
   "outputs": [
    {
     "ename": "SyntaxError",
     "evalue": "invalid syntax (2613166702.py, line 1)",
     "output_type": "error",
     "traceback": [
      "\u001b[0;36m  Cell \u001b[0;32mIn[58], line 1\u001b[0;36m\u001b[0m\n\u001b[0;31m    --break\u001b[0m\n\u001b[0m      ^\u001b[0m\n\u001b[0;31mSyntaxError\u001b[0m\u001b[0;31m:\u001b[0m invalid syntax\n"
     ]
    }
   ],
   "source": [
    "--break"
   ]
  },
  {
   "cell_type": "code",
   "execution_count": null,
   "id": "9e5f4ef0-24b8-4d05-8fa9-37fd441f6e6d",
   "metadata": {},
   "outputs": [],
   "source": []
  },
  {
   "cell_type": "code",
   "execution_count": null,
   "id": "3e8cf3a5-5b8e-4ffe-a069-283867c17930",
   "metadata": {},
   "outputs": [
    {
     "ename": "ValueError",
     "evalue": "Input data must be a pandas object to reorder",
     "output_type": "error",
     "traceback": [
      "\u001b[0;31m---------------------------------------------------------------------------\u001b[0m",
      "\u001b[0;31mValueError\u001b[0m                                Traceback (most recent call last)",
      "Cell \u001b[0;32mIn[81], line 22\u001b[0m\n\u001b[1;32m     20\u001b[0m \u001b[38;5;66;03m# Create the segment profile plot\u001b[39;00m\n\u001b[1;32m     21\u001b[0m plt\u001b[38;5;241m.\u001b[39mfigure(figsize\u001b[38;5;241m=\u001b[39m(\u001b[38;5;241m10\u001b[39m, \u001b[38;5;241m6\u001b[39m))\n\u001b[0;32m---> 22\u001b[0m \u001b[43msns\u001b[49m\u001b[38;5;241;43m.\u001b[39;49m\u001b[43mbarplot\u001b[49m\u001b[43m(\u001b[49m\u001b[43mdata\u001b[49m\u001b[38;5;241;43m=\u001b[39;49m\u001b[43mkmeans\u001b[49m\u001b[38;5;241;43m.\u001b[39;49m\u001b[43minertia_\u001b[49m\u001b[43m,\u001b[49m\u001b[43m \u001b[49m\u001b[43morder\u001b[49m\u001b[38;5;241;43m=\u001b[39;49m\u001b[43mbarchart_order\u001b[49m\u001b[43m)\u001b[49m\n\u001b[1;32m     23\u001b[0m plt\u001b[38;5;241m.\u001b[39mxlabel(\u001b[38;5;124m\"\u001b[39m\u001b[38;5;124mSegment\u001b[39m\u001b[38;5;124m\"\u001b[39m)\n\u001b[1;32m     24\u001b[0m plt\u001b[38;5;241m.\u001b[39mylabel(\u001b[38;5;124m\"\u001b[39m\u001b[38;5;124mPercentage\u001b[39m\u001b[38;5;124m\"\u001b[39m)\n",
      "File \u001b[0;32m/opt/conda/lib/python3.10/site-packages/seaborn/categorical.py:2754\u001b[0m, in \u001b[0;36mbarplot\u001b[0;34m(data, x, y, hue, order, hue_order, estimator, errorbar, n_boot, units, seed, orient, color, palette, saturation, width, errcolor, errwidth, capsize, dodge, ci, ax, **kwargs)\u001b[0m\n\u001b[1;32m   2751\u001b[0m \u001b[38;5;28;01mif\u001b[39;00m estimator \u001b[38;5;129;01mis\u001b[39;00m \u001b[38;5;28mlen\u001b[39m:\n\u001b[1;32m   2752\u001b[0m     estimator \u001b[38;5;241m=\u001b[39m \u001b[38;5;124m\"\u001b[39m\u001b[38;5;124msize\u001b[39m\u001b[38;5;124m\"\u001b[39m\n\u001b[0;32m-> 2754\u001b[0m plotter \u001b[38;5;241m=\u001b[39m \u001b[43m_BarPlotter\u001b[49m\u001b[43m(\u001b[49m\u001b[43mx\u001b[49m\u001b[43m,\u001b[49m\u001b[43m \u001b[49m\u001b[43my\u001b[49m\u001b[43m,\u001b[49m\u001b[43m \u001b[49m\u001b[43mhue\u001b[49m\u001b[43m,\u001b[49m\u001b[43m \u001b[49m\u001b[43mdata\u001b[49m\u001b[43m,\u001b[49m\u001b[43m \u001b[49m\u001b[43morder\u001b[49m\u001b[43m,\u001b[49m\u001b[43m \u001b[49m\u001b[43mhue_order\u001b[49m\u001b[43m,\u001b[49m\n\u001b[1;32m   2755\u001b[0m \u001b[43m                      \u001b[49m\u001b[43mestimator\u001b[49m\u001b[43m,\u001b[49m\u001b[43m \u001b[49m\u001b[43merrorbar\u001b[49m\u001b[43m,\u001b[49m\u001b[43m \u001b[49m\u001b[43mn_boot\u001b[49m\u001b[43m,\u001b[49m\u001b[43m \u001b[49m\u001b[43munits\u001b[49m\u001b[43m,\u001b[49m\u001b[43m \u001b[49m\u001b[43mseed\u001b[49m\u001b[43m,\u001b[49m\n\u001b[1;32m   2756\u001b[0m \u001b[43m                      \u001b[49m\u001b[43morient\u001b[49m\u001b[43m,\u001b[49m\u001b[43m \u001b[49m\u001b[43mcolor\u001b[49m\u001b[43m,\u001b[49m\u001b[43m \u001b[49m\u001b[43mpalette\u001b[49m\u001b[43m,\u001b[49m\u001b[43m \u001b[49m\u001b[43msaturation\u001b[49m\u001b[43m,\u001b[49m\n\u001b[1;32m   2757\u001b[0m \u001b[43m                      \u001b[49m\u001b[43mwidth\u001b[49m\u001b[43m,\u001b[49m\u001b[43m \u001b[49m\u001b[43merrcolor\u001b[49m\u001b[43m,\u001b[49m\u001b[43m \u001b[49m\u001b[43merrwidth\u001b[49m\u001b[43m,\u001b[49m\u001b[43m \u001b[49m\u001b[43mcapsize\u001b[49m\u001b[43m,\u001b[49m\u001b[43m \u001b[49m\u001b[43mdodge\u001b[49m\u001b[43m)\u001b[49m\n\u001b[1;32m   2759\u001b[0m \u001b[38;5;28;01mif\u001b[39;00m ax \u001b[38;5;129;01mis\u001b[39;00m \u001b[38;5;28;01mNone\u001b[39;00m:\n\u001b[1;32m   2760\u001b[0m     ax \u001b[38;5;241m=\u001b[39m plt\u001b[38;5;241m.\u001b[39mgca()\n",
      "File \u001b[0;32m/opt/conda/lib/python3.10/site-packages/seaborn/categorical.py:1530\u001b[0m, in \u001b[0;36m_BarPlotter.__init__\u001b[0;34m(self, x, y, hue, data, order, hue_order, estimator, errorbar, n_boot, units, seed, orient, color, palette, saturation, width, errcolor, errwidth, capsize, dodge)\u001b[0m\n\u001b[1;32m   1525\u001b[0m \u001b[38;5;28;01mdef\u001b[39;00m \u001b[38;5;21m__init__\u001b[39m(\u001b[38;5;28mself\u001b[39m, x, y, hue, data, order, hue_order,\n\u001b[1;32m   1526\u001b[0m              estimator, errorbar, n_boot, units, seed,\n\u001b[1;32m   1527\u001b[0m              orient, color, palette, saturation, width,\n\u001b[1;32m   1528\u001b[0m              errcolor, errwidth, capsize, dodge):\n\u001b[1;32m   1529\u001b[0m     \u001b[38;5;124;03m\"\"\"Initialize the plotter.\"\"\"\u001b[39;00m\n\u001b[0;32m-> 1530\u001b[0m     \u001b[38;5;28;43mself\u001b[39;49m\u001b[38;5;241;43m.\u001b[39;49m\u001b[43mestablish_variables\u001b[49m\u001b[43m(\u001b[49m\u001b[43mx\u001b[49m\u001b[43m,\u001b[49m\u001b[43m \u001b[49m\u001b[43my\u001b[49m\u001b[43m,\u001b[49m\u001b[43m \u001b[49m\u001b[43mhue\u001b[49m\u001b[43m,\u001b[49m\u001b[43m \u001b[49m\u001b[43mdata\u001b[49m\u001b[43m,\u001b[49m\u001b[43m \u001b[49m\u001b[43morient\u001b[49m\u001b[43m,\u001b[49m\n\u001b[1;32m   1531\u001b[0m \u001b[43m                             \u001b[49m\u001b[43morder\u001b[49m\u001b[43m,\u001b[49m\u001b[43m \u001b[49m\u001b[43mhue_order\u001b[49m\u001b[43m,\u001b[49m\u001b[43m \u001b[49m\u001b[43munits\u001b[49m\u001b[43m)\u001b[49m\n\u001b[1;32m   1532\u001b[0m     \u001b[38;5;28mself\u001b[39m\u001b[38;5;241m.\u001b[39mestablish_colors(color, palette, saturation)\n\u001b[1;32m   1533\u001b[0m     \u001b[38;5;28mself\u001b[39m\u001b[38;5;241m.\u001b[39mestimate_statistic(estimator, errorbar, n_boot, seed)\n",
      "File \u001b[0;32m/opt/conda/lib/python3.10/site-packages/seaborn/categorical.py:481\u001b[0m, in \u001b[0;36m_CategoricalPlotter.establish_variables\u001b[0;34m(self, x, y, hue, data, orient, order, hue_order, units)\u001b[0m\n\u001b[1;32m    479\u001b[0m \u001b[38;5;28;01mif\u001b[39;00m order \u001b[38;5;129;01mis\u001b[39;00m \u001b[38;5;129;01mnot\u001b[39;00m \u001b[38;5;28;01mNone\u001b[39;00m:\n\u001b[1;32m    480\u001b[0m     error \u001b[38;5;241m=\u001b[39m \u001b[38;5;124m\"\u001b[39m\u001b[38;5;124mInput data must be a pandas object to reorder\u001b[39m\u001b[38;5;124m\"\u001b[39m\n\u001b[0;32m--> 481\u001b[0m     \u001b[38;5;28;01mraise\u001b[39;00m \u001b[38;5;167;01mValueError\u001b[39;00m(error)\n\u001b[1;32m    483\u001b[0m \u001b[38;5;66;03m# The input data is an array\u001b[39;00m\n\u001b[1;32m    484\u001b[0m \u001b[38;5;28;01mif\u001b[39;00m \u001b[38;5;28mhasattr\u001b[39m(data, \u001b[38;5;124m\"\u001b[39m\u001b[38;5;124mshape\u001b[39m\u001b[38;5;124m\"\u001b[39m):\n",
      "\u001b[0;31mValueError\u001b[0m: Input data must be a pandas object to reorder"
     ]
    },
    {
     "data": {
      "text/plain": [
       "<Figure size 1000x600 with 0 Axes>"
      ]
     },
     "metadata": {},
     "output_type": "display_data"
    }
   ],
   "source": [
    "import numpy as np\n",
    "import pandas as pd\n",
    "import seaborn as sns\n",
    "import matplotlib.pyplot as plt\n",
    "from scipy.cluster.hierarchy import linkage, dendrogram\n",
    "from sklearn.decomposition import PCA\n",
    "from sklearn.preprocessing import StandardScaler\n",
    "\n",
    "# Step 1: Hierarchical Clustering\n",
    "MD_vclust = linkage(MD_x.T, method='complete')  # Assuming MD_x contains the data\n",
    "\n",
    "# Step 2: Create Segment Profile Plot\n",
    "segment_order = MD_vclust[:, 3]\n",
    "barchart_order = np.argsort(segment_order)\n",
    "\n",
    "# Generate some example data\n",
    "# Replace this with your actual data\n",
    "MD_k4 = pd.DataFrame(np.random.rand(4, 10), columns=['perception1', 'perception2', 'perception3', 'perception4', 'perception5', 'perception6', 'perception7', 'perception8', 'perception9', 'perception10'])\n",
    "\n",
    "# Create the segment profile plot\n",
    "plt.figure(figsize=(10, 6))\n",
    "sns.barplot(data=kmeans.inertia_, order=barchart_order)\n",
    "plt.xlabel(\"Segment\")\n",
    "plt.ylabel(\"Percentage\")\n",
    "plt.title(\"Segment Profile Plot\")\n",
    "plt.show()\n",
    "\n",
    "# Step 3: Segment Separation Plot using PCA\n",
    "# Perform PCA\n",
    "pca = PCA(n_components=2)\n",
    "MD_pca = pca.fit_transform(MD_x)\n",
    "\n",
    "# Plot segment separation\n",
    "plt.figure(figsize=(10, 6))\n",
    "sns.scatterplot(x=MD_pca[:, 0], y=MD_pca[:, 1], hue=kmeans_5.labels_, palette=\"Set1\")\n",
    "plt.xlabel(\"Principal Component 1\")\n",
    "plt.ylabel(\"Principal Component 2\")\n",
    "plt.title(\"Segment Separation Plot\")\n",
    "plt.legend(title=\"Segment\")\n",
    "plt.show()"
   ]
  },
  {
   "cell_type": "code",
   "execution_count": null,
   "id": "6b893be3-874e-40fd-89b6-06409aa671ae",
   "metadata": {},
   "outputs": [],
   "source": []
  },
  {
   "cell_type": "code",
   "execution_count": null,
   "id": "9be53eec-e48a-418a-a5cc-7c247a676d55",
   "metadata": {},
   "outputs": [],
   "source": [
    "kmeans=KMeans(n_clusters=5,random_state=1234)\n",
    "MD_kmeans=kmeans.fit(MD_x)"
   ]
  },
  {
   "cell_type": "code",
   "execution_count": null,
   "id": "9832333f-3a45-44f0-be42-1511db7f885e",
   "metadata": {},
   "outputs": [],
   "source": []
  },
  {
   "cell_type": "code",
   "execution_count": 78,
   "id": "1e95f6b5-afdf-41d1-b43d-43a3e0770073",
   "metadata": {},
   "outputs": [
    {
     "data": {
      "text/plain": [
       "[KMeans(n_clusters=2, n_init=10, random_state=1234),\n",
       " KMeans(n_clusters=3, n_init=10, random_state=1234),\n",
       " KMeans(n_clusters=4, n_init=10, random_state=1234),\n",
       " KMeans(n_clusters=5, n_init=10, random_state=1234),\n",
       " KMeans(n_clusters=6, n_init=10, random_state=1234),\n",
       " KMeans(n_clusters=7, n_init=10, random_state=1234),\n",
       " KMeans(n_init=10, random_state=1234)]"
      ]
     },
     "execution_count": 78,
     "metadata": {},
     "output_type": "execute_result"
    }
   ],
   "source": [
    "kmeans_list"
   ]
  },
  {
   "cell_type": "code",
   "execution_count": null,
   "id": "ffd944e3-bcfa-49f5-9740-8d7bbaa3d468",
   "metadata": {},
   "outputs": [],
   "source": []
  },
  {
   "cell_type": "code",
   "execution_count": null,
   "id": "11828ed6-1e67-468c-86b8-5116151e16bc",
   "metadata": {},
   "outputs": [],
   "source": []
  },
  {
   "cell_type": "code",
   "execution_count": null,
   "id": "848286b4-c103-4d1e-b33d-0d1f2d5b0d3e",
   "metadata": {},
   "outputs": [],
   "source": []
  },
  {
   "cell_type": "code",
   "execution_count": null,
   "id": "a8d550e2-e25f-400e-a35e-92ae95812ba7",
   "metadata": {},
   "outputs": [],
   "source": []
  },
  {
   "cell_type": "code",
   "execution_count": null,
   "id": "9ef543a2-cffa-4f6b-a040-ab84ea953b4a",
   "metadata": {},
   "outputs": [],
   "source": []
  },
  {
   "cell_type": "code",
   "execution_count": null,
   "id": "373a90a9-6b13-4904-aa6a-5d4a9d825132",
   "metadata": {},
   "outputs": [],
   "source": []
  },
  {
   "cell_type": "code",
   "execution_count": null,
   "id": "ede841db-dfaa-4fdc-ae30-4e4ea00e4efc",
   "metadata": {},
   "outputs": [],
   "source": []
  },
  {
   "cell_type": "code",
   "execution_count": null,
   "id": "92d5f435-d9fc-456f-a23d-08ff1b897650",
   "metadata": {},
   "outputs": [],
   "source": []
  },
  {
   "cell_type": "code",
   "execution_count": null,
   "id": "62a4a3a5-d323-4240-9524-b38f35ccb121",
   "metadata": {},
   "outputs": [],
   "source": []
  },
  {
   "cell_type": "code",
   "execution_count": null,
   "id": "7f59ca2e-a14f-49fd-bed4-a2828f4e26fe",
   "metadata": {},
   "outputs": [],
   "source": []
  },
  {
   "cell_type": "code",
   "execution_count": null,
   "id": "f0ee750a-a8af-41c6-bb64-31e3c5879a57",
   "metadata": {},
   "outputs": [],
   "source": []
  },
  {
   "cell_type": "code",
   "execution_count": null,
   "id": "6fc7beb6-22d5-48ba-9747-0b1906ec018b",
   "metadata": {},
   "outputs": [],
   "source": []
  },
  {
   "cell_type": "code",
   "execution_count": null,
   "id": "23c1478b-0b1c-4125-9760-b5c8787f2a89",
   "metadata": {},
   "outputs": [],
   "source": []
  },
  {
   "cell_type": "code",
   "execution_count": null,
   "id": "be08a0a4-5738-44ec-8061-ef0972b10c79",
   "metadata": {},
   "outputs": [],
   "source": []
  },
  {
   "cell_type": "code",
   "execution_count": null,
   "id": "80a4c248-c3f4-41ce-93bc-0979a18284fb",
   "metadata": {},
   "outputs": [],
   "source": []
  },
  {
   "cell_type": "code",
   "execution_count": null,
   "id": "605c8d8a-a529-4f06-9044-e80cff921d00",
   "metadata": {},
   "outputs": [],
   "source": []
  },
  {
   "cell_type": "code",
   "execution_count": null,
   "id": "41012670-6980-4c8c-931b-8ae68ea32993",
   "metadata": {},
   "outputs": [],
   "source": []
  },
  {
   "cell_type": "code",
   "execution_count": null,
   "id": "0d8e9194-21ba-42f3-b6ec-49f4dfded018",
   "metadata": {},
   "outputs": [],
   "source": []
  },
  {
   "cell_type": "code",
   "execution_count": null,
   "id": "8757327d-a3d8-4a73-abf2-9332aa47415b",
   "metadata": {},
   "outputs": [],
   "source": []
  },
  {
   "cell_type": "code",
   "execution_count": null,
   "id": "f8153a10-ed58-4168-b857-face6443f1d3",
   "metadata": {},
   "outputs": [],
   "source": []
  },
  {
   "cell_type": "code",
   "execution_count": null,
   "id": "f67133c7-2854-446e-bb73-a2410d7032ff",
   "metadata": {},
   "outputs": [],
   "source": []
  },
  {
   "cell_type": "code",
   "execution_count": null,
   "id": "4a5c41d0-9f72-40d9-846f-3e11af435e06",
   "metadata": {},
   "outputs": [],
   "source": []
  },
  {
   "cell_type": "code",
   "execution_count": null,
   "id": "35abb8b3-b485-4045-be06-6046cc654205",
   "metadata": {},
   "outputs": [],
   "source": []
  },
  {
   "cell_type": "code",
   "execution_count": null,
   "id": "499c28db-cd3e-4e60-b082-18793ea04c2f",
   "metadata": {},
   "outputs": [],
   "source": []
  },
  {
   "cell_type": "code",
   "execution_count": null,
   "id": "dd2b5fc5-38d1-4f13-8d41-872395c828cb",
   "metadata": {},
   "outputs": [],
   "source": []
  },
  {
   "cell_type": "code",
   "execution_count": null,
   "id": "a7a00561-afc7-47e9-8074-fc271aafa860",
   "metadata": {},
   "outputs": [],
   "source": []
  },
  {
   "cell_type": "code",
   "execution_count": null,
   "id": "708de7b7-b596-4cc3-9c3f-019618214f48",
   "metadata": {},
   "outputs": [],
   "source": []
  },
  {
   "cell_type": "code",
   "execution_count": null,
   "id": "5d578352-81c9-434f-9695-bf80dd3f330f",
   "metadata": {},
   "outputs": [],
   "source": []
  },
  {
   "cell_type": "code",
   "execution_count": null,
   "id": "0a8a19be-f54a-4d67-a1f8-922f1eca5fe5",
   "metadata": {},
   "outputs": [],
   "source": []
  },
  {
   "cell_type": "code",
   "execution_count": null,
   "id": "24e7313d-df52-4785-ab39-8dd0ccdc10e1",
   "metadata": {},
   "outputs": [],
   "source": []
  },
  {
   "cell_type": "code",
   "execution_count": null,
   "id": "269095a7-9ce0-4265-b6f9-d38fe99de12a",
   "metadata": {},
   "outputs": [],
   "source": []
  },
  {
   "cell_type": "code",
   "execution_count": null,
   "id": "35df3381-a422-4af9-a512-00e7b84f08fe",
   "metadata": {},
   "outputs": [],
   "source": []
  },
  {
   "cell_type": "code",
   "execution_count": null,
   "id": "43626484-f8f9-407f-9347-7df4e5960205",
   "metadata": {},
   "outputs": [],
   "source": []
  },
  {
   "cell_type": "code",
   "execution_count": null,
   "id": "2eb5c63d-e2e1-4348-b477-7984d8cabd61",
   "metadata": {},
   "outputs": [],
   "source": []
  },
  {
   "cell_type": "code",
   "execution_count": null,
   "id": "25e5903a-c73f-4ddb-a6cf-28aa81edb951",
   "metadata": {},
   "outputs": [],
   "source": []
  },
  {
   "cell_type": "code",
   "execution_count": null,
   "id": "093d1344-211d-4348-96f2-dc396eefdcac",
   "metadata": {},
   "outputs": [],
   "source": []
  },
  {
   "cell_type": "code",
   "execution_count": null,
   "id": "c5ceec12-0673-4662-96a0-c855d4bfae45",
   "metadata": {},
   "outputs": [],
   "source": []
  },
  {
   "cell_type": "code",
   "execution_count": null,
   "id": "9235a202-c284-4d2e-903a-b22e746545d7",
   "metadata": {},
   "outputs": [],
   "source": []
  },
  {
   "cell_type": "code",
   "execution_count": null,
   "id": "148c7830-6eb9-4648-9516-e8d58345a5a9",
   "metadata": {},
   "outputs": [],
   "source": []
  },
  {
   "cell_type": "code",
   "execution_count": null,
   "id": "8df86f1f-f8d9-47cf-9fdf-0a9178416f9e",
   "metadata": {},
   "outputs": [],
   "source": []
  },
  {
   "cell_type": "code",
   "execution_count": null,
   "id": "609f95af-d2c0-445e-a797-de6ab29ecd03",
   "metadata": {},
   "outputs": [],
   "source": []
  },
  {
   "cell_type": "code",
   "execution_count": null,
   "id": "22371845-3ac0-4d0f-af48-cd4e39ea04af",
   "metadata": {},
   "outputs": [],
   "source": []
  },
  {
   "cell_type": "code",
   "execution_count": null,
   "id": "ae91114d-8541-4b8c-8d8e-78c02736e79f",
   "metadata": {},
   "outputs": [],
   "source": []
  },
  {
   "cell_type": "code",
   "execution_count": null,
   "id": "34dac0ef-2679-42bb-8ba6-a5a51e7b0c61",
   "metadata": {},
   "outputs": [],
   "source": []
  },
  {
   "cell_type": "code",
   "execution_count": null,
   "id": "50334f1c-cf34-455f-bb0b-43cfd910caa6",
   "metadata": {},
   "outputs": [],
   "source": []
  },
  {
   "cell_type": "code",
   "execution_count": null,
   "id": "ad4d40c9-046e-4017-aacc-0cdcb85a0bb9",
   "metadata": {},
   "outputs": [],
   "source": []
  },
  {
   "cell_type": "code",
   "execution_count": null,
   "id": "386a1e35-f4bf-432c-a58f-b866b8af1dd3",
   "metadata": {},
   "outputs": [],
   "source": []
  },
  {
   "cell_type": "code",
   "execution_count": null,
   "id": "e64e97e7-5e0a-4cc3-bf79-edeaf7bbf5fe",
   "metadata": {},
   "outputs": [],
   "source": []
  },
  {
   "cell_type": "code",
   "execution_count": null,
   "id": "3a7e8268-c875-498e-8d7f-6807bae7a824",
   "metadata": {},
   "outputs": [],
   "source": []
  },
  {
   "cell_type": "code",
   "execution_count": null,
   "id": "c02793d2-b3d6-4070-913e-8d78dc2cee40",
   "metadata": {},
   "outputs": [],
   "source": []
  },
  {
   "cell_type": "code",
   "execution_count": null,
   "id": "abf2aadb-5768-42d9-907b-41f85c03880d",
   "metadata": {},
   "outputs": [],
   "source": []
  },
  {
   "cell_type": "code",
   "execution_count": null,
   "id": "916c1656-482d-43ab-9c3d-1db92da52dda",
   "metadata": {},
   "outputs": [],
   "source": []
  },
  {
   "cell_type": "code",
   "execution_count": null,
   "id": "3ec75778-6220-494b-bea4-cf45007201b1",
   "metadata": {},
   "outputs": [],
   "source": []
  },
  {
   "cell_type": "code",
   "execution_count": null,
   "id": "b968c295-1995-42f6-a7ab-1958bf2a32fa",
   "metadata": {},
   "outputs": [],
   "source": []
  },
  {
   "cell_type": "code",
   "execution_count": null,
   "id": "23e551a4-207b-48ff-ada3-9daaa9f29ca5",
   "metadata": {},
   "outputs": [],
   "source": []
  },
  {
   "cell_type": "code",
   "execution_count": null,
   "id": "97455b3d-4aee-474e-9e3d-9c9661337d52",
   "metadata": {},
   "outputs": [],
   "source": []
  },
  {
   "cell_type": "code",
   "execution_count": null,
   "id": "5644ae7e-fb2f-4b52-90a4-6c4ba2e91cc4",
   "metadata": {},
   "outputs": [],
   "source": []
  },
  {
   "cell_type": "code",
   "execution_count": null,
   "id": "d916320c-ac48-430d-998a-160532233368",
   "metadata": {},
   "outputs": [],
   "source": []
  },
  {
   "cell_type": "code",
   "execution_count": null,
   "id": "5014f8fd-f0b1-4746-a3d9-c2e1a0ba80c0",
   "metadata": {},
   "outputs": [],
   "source": []
  },
  {
   "cell_type": "code",
   "execution_count": null,
   "id": "45d283c8-4746-4ee2-9b25-5a4a3e17ec63",
   "metadata": {},
   "outputs": [],
   "source": []
  },
  {
   "cell_type": "code",
   "execution_count": null,
   "id": "605540fa-d89b-4f9c-8762-53b6f4bdc0c7",
   "metadata": {},
   "outputs": [],
   "source": []
  },
  {
   "cell_type": "code",
   "execution_count": null,
   "id": "78f6dc4c-020d-4769-b2f8-83139f3ca545",
   "metadata": {},
   "outputs": [],
   "source": []
  },
  {
   "cell_type": "code",
   "execution_count": null,
   "id": "9ab626a5-1dae-466a-9eb9-dd8fa4d577b8",
   "metadata": {},
   "outputs": [],
   "source": []
  },
  {
   "cell_type": "code",
   "execution_count": null,
   "id": "42f87ed0-0366-463a-a2bb-d1d4109b0c15",
   "metadata": {},
   "outputs": [],
   "source": []
  },
  {
   "cell_type": "code",
   "execution_count": null,
   "id": "9c265ca9-01f0-4733-88b3-d453ff5c45b2",
   "metadata": {},
   "outputs": [],
   "source": []
  },
  {
   "cell_type": "code",
   "execution_count": null,
   "id": "e8ac9d7b-ad5b-43de-bd0a-b21c754d0a8d",
   "metadata": {},
   "outputs": [],
   "source": []
  },
  {
   "cell_type": "code",
   "execution_count": null,
   "id": "cd825721-b59d-41fb-aad2-e40b512e0d2c",
   "metadata": {},
   "outputs": [],
   "source": []
  },
  {
   "cell_type": "code",
   "execution_count": null,
   "id": "16389633-53cf-4cbf-88ff-093b31369692",
   "metadata": {},
   "outputs": [],
   "source": []
  },
  {
   "cell_type": "code",
   "execution_count": null,
   "id": "92d7cc84-8375-434d-b5fc-67d1e6eb4579",
   "metadata": {},
   "outputs": [],
   "source": []
  },
  {
   "cell_type": "code",
   "execution_count": null,
   "id": "27c4bfa4-c6e0-4eba-8f65-ad6caf572783",
   "metadata": {},
   "outputs": [],
   "source": []
  },
  {
   "cell_type": "code",
   "execution_count": null,
   "id": "28b28af9-acc7-4041-9840-40c5c2f02eab",
   "metadata": {},
   "outputs": [],
   "source": []
  },
  {
   "cell_type": "code",
   "execution_count": null,
   "id": "719a832a-e3d8-4570-8794-3acf0d5fbe02",
   "metadata": {},
   "outputs": [],
   "source": []
  },
  {
   "cell_type": "code",
   "execution_count": null,
   "id": "bc27376d-1046-45bb-b2a1-b4f03fa873ab",
   "metadata": {},
   "outputs": [],
   "source": []
  }
 ],
 "metadata": {
  "kernelspec": {
   "display_name": "Python 3 (ipykernel)",
   "language": "python",
   "name": "python3"
  },
  "language_info": {
   "codemirror_mode": {
    "name": "ipython",
    "version": 3
   },
   "file_extension": ".py",
   "mimetype": "text/x-python",
   "name": "python",
   "nbconvert_exporter": "python",
   "pygments_lexer": "ipython3",
   "version": "3.10.8"
  }
 },
 "nbformat": 4,
 "nbformat_minor": 5
}
